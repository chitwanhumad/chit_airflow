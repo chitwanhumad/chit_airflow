{
  "nbformat": 4,
  "nbformat_minor": 0,
  "metadata": {
    "colab": {
      "provenance": [],
      "collapsed_sections": [
        "pJ5VcbVgxotl",
        "W2ukG8vSx0Xd",
        "gzGFOumzx-t9",
        "XIuxlXDFyHRt",
        "bDQrMlkKyRU1",
        "n9uyZqr8yUVk",
        "Ryf9fVJZyaK8"
      ],
      "authorship_tag": "ABX9TyOTTugbkmLFKRJPgiyOPNk/",
      "include_colab_link": true
    },
    "kernelspec": {
      "name": "python3",
      "display_name": "Python 3"
    },
    "language_info": {
      "name": "python"
    }
  },
  "cells": [
    {
      "cell_type": "markdown",
      "metadata": {
        "id": "view-in-github",
        "colab_type": "text"
      },
      "source": [
        "<a href=\"https://colab.research.google.com/github/chitwanhumad/chit_airflow/blob/main/Nifty100_yahoofinance.ipynb\" target=\"_parent\"><img src=\"https://colab.research.google.com/assets/colab-badge.svg\" alt=\"Open In Colab\"/></a>"
      ]
    },
    {
      "cell_type": "markdown",
      "source": [
        "### Environment set up and Mylist creation, run once only unless you need to change Mylist."
      ],
      "metadata": {
        "id": "pJ5VcbVgxotl"
      }
    },
    {
      "cell_type": "code",
      "execution_count": null,
      "metadata": {
        "colab": {
          "base_uri": "https://localhost:8080/"
        },
        "id": "2gdETaK90P0T",
        "outputId": "98a546cf-6986-4856-e413-c7936cd220c4"
      },
      "outputs": [
        {
          "output_type": "stream",
          "name": "stdout",
          "text": [
            "Drive already mounted at /content/drive; to attempt to forcibly remount, call drive.mount(\"/content/drive\", force_remount=True).\n"
          ]
        }
      ],
      "source": [
        "import time\n",
        "import datetime\n",
        "import pandas as pd\n",
        "import numpy as np\n",
        "import warnings\n",
        "\n",
        "from google.colab import drive\n",
        "drive.mount('/content/drive')\n",
        "v_project_folder = '/content/drive/My Drive/Trading/'\n",
        "\n",
        "# format (2024, 5, 1, 0, 0) -- (YYYY, M, D, 0, 0), yahoo finance use this mentod to filter dates. Testing for montly historical window.\n",
        "period1 = int(time.mktime(datetime.datetime(2024, 4, 7, 0, 0).timetuple()))\n",
        "period2 = int(time.mktime(datetime.datetime(2024, 5, 10, 0, 0).timetuple()))\n",
        "# daily reporting\n",
        "interval = '1d' # 1d, 1m\n",
        "\n",
        "#List of all Nifty 100 shares\n",
        "nifty100=['ABB', 'AMBUJACEM', 'APOLLOHOSP', 'ASIANPAINT', 'DMART', 'AXISBANK', 'BAJAJ-AUTO', 'BAJFINANCE', 'BAJAJFINSV', 'BAJAJHLDNG', 'BANKBARODA', 'BERGEPAINT', 'BEL', 'BPCL', 'BHARTIARTL', 'BOSCHLTD', 'BRITANNIA', 'CANBK', 'CHOLAFIN', 'CIPLA', 'COALINDIA', 'COLPAL', 'DLF', 'DABUR', 'DIVISLAB', 'DRREDDY', 'EICHERMOT', 'GAIL', 'GODREJCP', 'GRASIM', 'HCLTECH', 'HDFCBANK', 'HDFCLIFE', 'HAVELLS', 'HEROMOTOCO', 'HINDALCO', 'HAL', 'HINDUNILVR', 'ICICIBANK', 'ICICIGI', 'ICICIPRULI', 'ITC', 'IOC', 'IRCTC', 'IRFC', 'INDUSINDBK', 'NAUKRI', 'INFY', 'INDIGO', 'JSWSTEEL', 'JINDALSTEL', 'JIOFIN', 'KOTAKBANK', 'LTIM', 'LT', 'LICI', 'M&M', 'MARICO', 'MARUTI', 'NTPC', 'NESTLEIND', 'ONGC', 'PIDILITIND', 'PFC', 'POWERGRID', 'PNB', 'RECLTD', 'RELIANCE', 'SBICARD', 'SBILIFE', 'SRF', 'MOTHERSON', 'SHREECEM', 'SHRIRAMFIN', 'SIEMENS', 'SBIN', 'SUNPHARMA', 'TVSMOTOR', 'TCS', 'TATACONSUM', 'TATAMTRDVR', 'TATAMOTORS', 'TATAPOWER', 'TATASTEEL', 'TECHM', 'TITAN', 'TORNTPHARM', 'TRENT', 'ULTRACEMCO', 'UNIONBANK', 'VBL', 'VEDL', 'WIPRO', 'ZOMATO', 'ZYDUSLIFE' ]\n",
        "\n",
        "# List of all Nifty 50 shares\n",
        "nifty50 = ['APOLLOHOSP', 'ASIANPAINT', 'AXISBANK', 'BAJAJ-AUTO', 'BAJFINANCE', 'BAJAJFINSV', 'BPCL', 'BHARTIARTL', 'BRITANNIA', 'CIPLA', 'COALINDIA', 'DIVISLAB', 'DRREDDY', 'EICHERMOT', 'GRASIM', 'HCLTECH', 'HDFCBANK', 'HDFCLIFE', 'HEROMOTOCO', 'HINDALCO', 'HINDUNILVR', 'ICICIBANK', 'ITC', 'INDUSINDBK', 'INFY', 'JSWSTEEL', 'KOTAKBANK', 'LTIM', 'LT', 'M&M', 'MARUTI', 'NTPC', 'NESTLEIND', 'ONGC', 'POWERGRID', 'RELIANCE', 'SBILIFE', 'SHRIRAMFIN', 'SBIN', 'SUNPHARMA', 'TCS', 'TATACONSUM', 'TATAMOTORS', 'TATASTEEL', 'TECHM', 'TITAN', 'ULTRACEMCO', 'WIPRO']\n",
        "\n",
        "# List of all midcap 100 shares\n",
        "midcap100 = ['PAYTM', 'LTF', 'IDEA', 'BDL', 'PERSISTENT', 'COFORGE', 'SAIL', 'FORTIS', 'LODHA', 'GODREJPROP', 'BALKRISIND', 'APOLLOTYRE', 'BANKINDIA', 'KPITTECH', 'POONAWALLA', 'OFSS', 'APLAPOLLO', 'GMRINFRA', 'TATAELXSI', 'GUJGASLTD', 'LTTS', 'BHEL', 'ASHOKLEY', 'CUMMINSIND', 'DIXON', 'PATANJALI', 'NMDC', 'DALBHARAT', 'IDBI', 'INDUSTOWER', 'BANDHANBNK', 'HDFCAMC', 'TORNTPOWER', 'ALKEM', 'ACC', 'YESBANK', 'BHARATFORG', 'PEL', 'RVNL', 'LAURUSLABS', 'LALPATHLAB', 'KALYANKJIL', 'SYNGENE', 'UNIONBANK', 'SJVN', 'HINDPETRO', 'LICHSGFIN', 'LUPIN', 'M&MFIN', 'AUBANK', 'ABCAPITAL', 'MFSL', 'MAHABANK', 'MPHASIS', 'IGL', 'TATATECH', 'ZEEL', 'TIINDIA', 'AUROPHARMA', 'GLAND', 'TATACOMM', 'DELHIVERY', 'SONACOMS', 'INDIANB', 'MRF', 'OIL', 'IPCALAB', 'SUPREMEIND', 'CGPOWER', 'FACT', 'BIOCON', 'IDFCFIRSTB', 'ABFRL', 'INDHOTEL', 'NHPC', 'DEEPAKNTR', 'UPL', 'ASTRAL', 'JSWINFRA', 'VOLTAS', 'FEDERALBNK', 'NYKAA', 'SUNTV', 'POLICYBZR', 'CONCOR', 'SUZLON', 'PIIND', 'JSWENERGY', 'TATACHEM', 'PETRONET', 'POLYCAB', 'OBEROIRLTY', 'ESCORTS', 'MAZDOCK', 'JUBLFOOD', 'PRESTIGE', 'BSE', 'MAXHEALTH', 'PAGEIND', 'MANKIND']\n",
        "\n",
        "# mylist is used in the model, only one list can be assigned at a time.\n",
        "mylist = nifty100\n",
        "datasheetname = 'nifty100'"
      ]
    },
    {
      "cell_type": "markdown",
      "source": [
        "### Online history data ingestion, create main Dataframe df_nifty100"
      ],
      "metadata": {
        "id": "W2ukG8vSx0Xd"
      }
    },
    {
      "cell_type": "code",
      "source": [
        "warnings.filterwarnings('ignore')\n",
        "\n",
        "df_nifty100 = pd.DataFrame()\n",
        "\n",
        "for ticker in mylist:\n",
        "  # To create yahoo finance url to fetch url data\n",
        "  query_string = f'https://query1.finance.yahoo.com/v7/finance/download/{ticker}.NS?period1={period1}&period2={period2}&interval={interval}&events=history&includeAdjustedClose=true'\n",
        "  df = pd.read_csv(query_string)\n",
        "\n",
        "  # Previous close price is not available in the raw data. This is populated in PreClose field.\n",
        "  cnt = 1\n",
        "  df['PreClose'] = 0\n",
        "\n",
        "  while cnt < len(df):\n",
        "    df['PreClose'][cnt] = df['Close'][cnt-1]\n",
        "    cnt = cnt+1\n",
        "  df['Name'] = ticker\n",
        "\n",
        "  # Removing the first row as there is no PreClose value in it.\n",
        "  df = df.iloc[1:]\n",
        "\n",
        "  # Merging current symbol in the main df_nifty100 dataframe.\n",
        "  df_nifty100 = pd.concat([df_nifty100, df] , ignore_index=True)\n",
        "\n",
        "#df_nifty100.loc[ df_nifty100['Name'] == 'SBIN']\n",
        "\n",
        "# csv export to review the data\n",
        "#df_nifty100.to_csv(v_project_folder+'df_'+datasheetname+'_rawdata.csv')\n"
      ],
      "metadata": {
        "id": "8P6bwBxj0dP1"
      },
      "execution_count": null,
      "outputs": []
    },
    {
      "cell_type": "markdown",
      "source": [
        "### Transformation, create more fields for analysis"
      ],
      "metadata": {
        "id": "gzGFOumzx-t9"
      }
    },
    {
      "cell_type": "code",
      "source": [
        "# Transformation\n",
        "\n",
        "df_nifty100['pct_open'] = (df_nifty100['Open'] - df_nifty100['PreClose'])*100 / df_nifty100['PreClose'] # calulate % open up or down\n",
        "df_nifty100['pct_high'] = (df_nifty100['High'] - df_nifty100['Open'])*100 / df_nifty100['Open'] # calculate % of high after open\n",
        "df_nifty100['pct_low'] = (df_nifty100['Open'] - df_nifty100['Low'])*100 / df_nifty100['Open'] # calculate % of low after open\n",
        "df_nifty100['pct_close'] = (df_nifty100['Close'] - df_nifty100['Open'])*100 / df_nifty100['Open'] # calculate % of gain in d day profit or loss\n",
        "df_nifty100.sort_values(['Date' , 'pct_open'], inplace = True) # shares order by trading day and & open.\n",
        "\n",
        "df_nifty100['low_to_high'] = (df_nifty100['High'] - df_nifty100['Low'])*100 / df_nifty100['Low'] # claculate % from low to its high on the trading day\n",
        "df_nifty100['open_to_low'] = (df_nifty100['Open'] - df_nifty100['Low'])*100 / df_nifty100['Open'] # claculate % from low to its open on the trading day\n",
        "\n",
        "# Rainking on % open postive gainer to lossers, top most gets 1 and loss most gains the lenght values of the mylist\n",
        "df_nifty100['Top Gainer'] = df_nifty100.groupby(['Date'])['pct_open'].rank('dense', ascending=False)\n"
      ],
      "metadata": {
        "id": "hDiQHjGuansW"
      },
      "execution_count": null,
      "outputs": []
    },
    {
      "cell_type": "markdown",
      "source": [
        "### set up model parameters and identify qualified shares list"
      ],
      "metadata": {
        "id": "XIuxlXDFyHRt"
      }
    },
    {
      "cell_type": "code",
      "source": [
        "# This section is model parameters. The successfull parameters, are commented inline.\n",
        "\n",
        "# openpositive: The stock must open postive 0.5% min\n",
        "# openpositive = 0.5\n",
        "\n",
        "# topgainers: The shtock should be top gainer from the passed list (mylist)\n",
        "# topgainer_r1 = 1 # from range\n",
        "# topgainer_r2 = 1 # to range both inclusive\n",
        "\n",
        "# stoploss: put higher value if you do not want to put stop loss -- Tested on applying stop losses, howevere to make 1% profit no SL is recommended. That's why higher value is kept.\n",
        "# stoploss = 10\n",
        "\n",
        "# bookprofit is fixed - model is designed to gain only 1% profit on a given trading day\n",
        "# bookprofit = 1\n",
        "\n",
        "# lowtohigh defines the model2 when the stock qualifies based on openpositive but entry point is when it is opened 0.5% up but 1.5% down as compare to previous day closing\n",
        "# lowtohigh = 2 (0.5+1.5)\n",
        "\n",
        "# lowtohigh defines the model3 when stock deeps from the open and then turn positve. Technically this model has been failed.\n",
        "# opentolow = 1\n",
        "# stoploss_opentolow = 10 # stop loss for the model3 scenatio\n",
        "\n",
        "openpositive = 1\n",
        "topgainer_r1 = 3 # from range\n",
        "topgainer_r2 = 5 # to range both inclusive\n",
        "stoploss = 10\n",
        "bookprofit = 1 #fixed\n",
        "lowtohigh = 2\n",
        "opentolow = 1\n",
        "stoploss_opentolow = 10\n",
        "\n",
        "# (2nd one is better)\n",
        "# 1. qualify for trades: % open grater than parameter - openpositive and, in the top gainers parameter - topgainers range\n",
        "#df_nifty100['qualify_for_trade'] = np.where((( (df_nifty100['pct_open'] > 0.5) & (df_nifty100['pct_open'] <= openpositive) & (df_nifty100['Top Gainer'] >= topgainer_r1) & (df_nifty100['Top Gainer'] <= topgainer_r2)) ), 1, 0)\n",
        "\n",
        "# 2. Qualified trades: Opened between 0.25% and 1.5%, plus did not fall more morethan 0.5% after opening i.e. holding gains\n",
        "df_nifty100['qualify_for_trade'] = np.where( ((df_nifty100['pct_open'] > 0.25) & (df_nifty100['pct_high'] >= 0.5) & (df_nifty100['Low'] > df_nifty100['PreClose']) & (df_nifty100['pct_open'] <= 1.5)), 1, 0)\n"
      ],
      "metadata": {
        "id": "jo6CmAlhjhVl"
      },
      "execution_count": null,
      "outputs": []
    },
    {
      "cell_type": "markdown",
      "source": [
        "### model 1 - based on top gainers and open positive"
      ],
      "metadata": {
        "id": "bDQrMlkKyRU1"
      }
    },
    {
      "cell_type": "code",
      "source": [
        "# model 1 - based on top gainers and open positive.\n",
        "\n",
        "# successful trades: reached to the fixed parameter bookprofit as 1% default\n",
        "df_nifty100['successful_trades'] = np.where(((df_nifty100['pct_high'] > bookprofit) & (df_nifty100['qualify_for_trade']==1)), 1, 0)\n",
        "# stop loss trigger\n",
        "df_nifty100['successful_trades'] = np.where( ((df_nifty100['pct_low'] > stoploss ) & (df_nifty100['successful_trades']!=1)), -1, df_nifty100['successful_trades'])\n",
        "\n",
        "df_nifty100_qualify = df_nifty100.loc[df_nifty100['qualify_for_trade'] ==1 ]\n",
        "#df_nifty100_qualify.to_csv(v_project_folder+'df_'+datasheetname+'_qualify.csv')\n",
        "\n",
        "df_nifty100_testing_model1 = df_nifty100_qualify.groupby(['Date', 'Name'])[['qualify_for_trade','successful_trades']].sum()\n",
        "\n",
        "#results\n",
        "s1 = df_nifty100_testing_model1.loc[df_nifty100_testing_model1['successful_trades']==1]['successful_trades'].sum()\n",
        "q1= df_nifty100_testing_model1['qualify_for_trade'].sum()\n",
        "n1= df_nifty100_testing_model1.loc[df_nifty100_testing_model1['successful_trades']==0]['successful_trades'].count()\n",
        "f1= df_nifty100_testing_model1.loc[df_nifty100_testing_model1['successful_trades']==-1]['successful_trades'].sum()\n",
        "# Model results\n",
        "print(s1)\n",
        "print('----')\n",
        "print(q1)\n",
        "\n",
        "print('Model-1 success rate', round(s1*100/q1), '%')\n",
        "print('Model-1 nutral rate', round(n1*100/q1), '%')\n",
        "print('Model-1 failute rate with stoploss',stoploss, '% is', round(f1*100/q1), '%')\n"
      ],
      "metadata": {
        "colab": {
          "base_uri": "https://localhost:8080/"
        },
        "id": "AHuyLonQGawk",
        "outputId": "4e93ff1a-a2fb-4043-d2c9-3901b4a64a22"
      },
      "execution_count": null,
      "outputs": [
        {
          "output_type": "stream",
          "name": "stdout",
          "text": [
            "52\n",
            "----\n",
            "72\n",
            "Model-1 success rate 72 %\n",
            "Model-1 nutral rate 28 %\n",
            "Model-1 failute rate with stoploss 10 % is 0 %\n"
          ]
        }
      ]
    },
    {
      "cell_type": "markdown",
      "source": [
        "### model 2 - based on top gainers and swing from day low. parameter - lowtohigh"
      ],
      "metadata": {
        "id": "n9uyZqr8yUVk"
      }
    },
    {
      "cell_type": "code",
      "source": [
        "# model 2 - based on top gainers and swing from day low. parameter - lowtohigh\n",
        "\n",
        "# successful trades: reached to the fixed parameter bookprofit as 1% default and pick up from day low\n",
        "df_nifty100['successful_trades'] = np.where(((df_nifty100['pct_high'] > bookprofit) & (df_nifty100['low_to_high'] > lowtohigh) & (df_nifty100['qualify_for_trade']==1) ), 1, 0)\n",
        "# stop loss trigger\n",
        "df_nifty100['successful_trades'] = np.where( ((df_nifty100['pct_low'] > stoploss ) & (df_nifty100['successful_trades']!=1)), -1, df_nifty100['successful_trades'])\n",
        "\n",
        "df_nifty100_qualify = df_nifty100.loc[df_nifty100['qualify_for_trade'] ==1 ]\n",
        "#df_nifty100_qualify.to_csv(v_project_folder+'df_nifty100_qualify.csv')\n",
        "\n",
        "df_nifty100_testing_model2 = df_nifty100_qualify.groupby(['Date', 'Name'])[['qualify_for_trade','successful_trades']].sum()\n",
        "\n",
        "#results\n",
        "s2 = df_nifty100_testing_model2.loc[df_nifty100_testing_model2['successful_trades']==1]['successful_trades'].sum()\n",
        "q2= df_nifty100_testing_model2['qualify_for_trade'].sum()\n",
        "n2= df_nifty100_testing_model2.loc[df_nifty100_testing_model2['successful_trades']==0]['successful_trades'].count()\n",
        "f2= df_nifty100_testing_model2.loc[df_nifty100_testing_model2['successful_trades']==-1]['successful_trades'].sum()\n",
        "# Model results\n",
        "print(s2)\n",
        "print('----')\n",
        "print(q2)\n",
        "\n",
        "print('Model-2 success rate', round(s2*100/q2), '%')\n",
        "print('Model-2 nutral rate', round(n2*100/q2), '%')\n",
        "print('Model-2 failute rate stoploss',stoploss, '% is', round(f2*100/q2), '%')"
      ],
      "metadata": {
        "colab": {
          "base_uri": "https://localhost:8080/"
        },
        "id": "axLXl17E3CoT",
        "outputId": "891d3721-bc44-49fa-f640-4a149e2ed390"
      },
      "execution_count": null,
      "outputs": [
        {
          "output_type": "stream",
          "name": "stdout",
          "text": [
            "35\n",
            "----\n",
            "72\n",
            "Model-2 success rate 49 %\n",
            "Model-2 nutral rate 51 %\n",
            "Model-2 failute rate stoploss 10 % is 0 %\n"
          ]
        }
      ]
    },
    {
      "cell_type": "markdown",
      "source": [
        "### model 3 - based on top gainers, swing from day low and open to low."
      ],
      "metadata": {
        "id": "Ryf9fVJZyaK8"
      }
    },
    {
      "cell_type": "code",
      "source": [
        "# model 3 - based on top gainers, swing from day low and open to low.\n",
        "\n",
        "# successful trades: reached to the fixed parameter bookprofit as 1% default, and 1. pick up from day low and 2. low from open\n",
        "df_nifty100['successful_trades'] = np.where(((df_nifty100['pct_high'] > bookprofit) & (df_nifty100['open_to_low'] > opentolow) & (df_nifty100['qualify_for_trade']==1) ), 1, 0)\n",
        "# stop loss trigger\n",
        "df_nifty100['successful_trades'] = np.where( ((df_nifty100['pct_low'] > stoploss_opentolow ) & (df_nifty100['successful_trades']!=1)), -1, df_nifty100['successful_trades'])\n",
        "\n",
        "df_nifty100_qualify = df_nifty100.loc[df_nifty100['qualify_for_trade'] ==1 ]\n",
        "#df_nifty100_qualify.to_csv(v_project_folder+'df_nifty100_qualify.csv')\n",
        "\n",
        "df_nifty100_testing_model3 = df_nifty100_qualify.groupby(['Date', 'Name'])[['qualify_for_trade','successful_trades']].sum()\n",
        "\n",
        "#results\n",
        "s3 = df_nifty100_testing_model3.loc[df_nifty100_testing_model3['successful_trades']==1]['successful_trades'].sum()\n",
        "q3= df_nifty100_testing_model3['qualify_for_trade'].sum()\n",
        "n3= df_nifty100_testing_model3.loc[df_nifty100_testing_model3['successful_trades']==0]['successful_trades'].count()\n",
        "f3= df_nifty100_testing_model3.loc[df_nifty100_testing_model3['successful_trades']==-1]['successful_trades'].sum()\n",
        "# Model results\n",
        "print(s3)\n",
        "print('----')\n",
        "print(q3)\n",
        "\n",
        "\n",
        "print('Model-3 success rate', round(s3*100/q3), '%')\n",
        "print('Model-3 nutral rate', round(n3*100/q3), '%')\n",
        "print('Model-3 failute rate stoploss',stoploss_opentolow, '% is', round(f3*100/q3), '%')"
      ],
      "metadata": {
        "colab": {
          "base_uri": "https://localhost:8080/"
        },
        "id": "P8iOFU4T49kO",
        "outputId": "07bb39bb-7368-4dab-d9e0-6d0f285f9edf"
      },
      "execution_count": null,
      "outputs": [
        {
          "output_type": "stream",
          "name": "stdout",
          "text": [
            "1\n",
            "----\n",
            "72\n",
            "Model-3 success rate 1 %\n",
            "Model-3 nutral rate 99 %\n",
            "Model-3 failute rate stoploss 10 % is 0 %\n"
          ]
        }
      ]
    },
    {
      "cell_type": "code",
      "source": [
        "with pd.ExcelWriter(v_project_folder+'Model/df_'+datasheetname+'_testing_model.xlsx') as writer:\n",
        "  df_nifty100.round(2)\n",
        "  df_nifty100.to_excel(writer, datasheetname,index=False)\n",
        "  df_nifty100_testing_model1.to_excel(writer, 'model1')\n",
        "  df_nifty100_testing_model2.to_excel(writer, 'model2')\n",
        "  df_nifty100_testing_model3.to_excel(writer, 'model3')\n",
        "\n"
      ],
      "metadata": {
        "id": "okbKYPAvHQRw"
      },
      "execution_count": null,
      "outputs": []
    }
  ]
}