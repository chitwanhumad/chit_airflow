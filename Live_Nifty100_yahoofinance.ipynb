{
  "nbformat": 4,
  "nbformat_minor": 0,
  "metadata": {
    "colab": {
      "provenance": [],
      "collapsed_sections": [
        "O1bMppK7vAj2",
        "HiwkFTVjvDFV",
        "3Zpjs3lSvGPC"
      ],
      "authorship_tag": "ABX9TyP9tus1YcXGWnsfO7JMNPOr",
      "include_colab_link": true
    },
    "kernelspec": {
      "name": "python3",
      "display_name": "Python 3"
    },
    "language_info": {
      "name": "python"
    }
  },
  "cells": [
    {
      "cell_type": "markdown",
      "metadata": {
        "id": "view-in-github",
        "colab_type": "text"
      },
      "source": [
        "<a href=\"https://colab.research.google.com/github/chitwanhumad/chit_airflow/blob/main/Live_Nifty100_yahoofinance.ipynb\" target=\"_parent\"><img src=\"https://colab.research.google.com/assets/colab-badge.svg\" alt=\"Open In Colab\"/></a>"
      ]
    },
    {
      "cell_type": "markdown",
      "source": [
        "### Run only once a day"
      ],
      "metadata": {
        "id": "O1bMppK7vAj2"
      }
    },
    {
      "cell_type": "code",
      "source": [
        "%pip install nsepython\n",
        "%pip install xlsxwriter"
      ],
      "metadata": {
        "id": "998GIi4nXqqb",
        "colab": {
          "base_uri": "https://localhost:8080/"
        },
        "outputId": "856106a4-7781-4576-a596-2ef40a17c1cc"
      },
      "execution_count": null,
      "outputs": [
        {
          "output_type": "stream",
          "name": "stdout",
          "text": [
            "Requirement already satisfied: nsepython in /usr/local/lib/python3.10/dist-packages (2.8)\n",
            "Requirement already satisfied: requests in /usr/local/lib/python3.10/dist-packages (from nsepython) (2.31.0)\n",
            "Requirement already satisfied: pandas in /usr/local/lib/python3.10/dist-packages (from nsepython) (2.0.3)\n",
            "Requirement already satisfied: scipy in /usr/local/lib/python3.10/dist-packages (from nsepython) (1.11.4)\n",
            "Requirement already satisfied: python-dateutil>=2.8.2 in /usr/local/lib/python3.10/dist-packages (from pandas->nsepython) (2.8.2)\n",
            "Requirement already satisfied: pytz>=2020.1 in /usr/local/lib/python3.10/dist-packages (from pandas->nsepython) (2023.4)\n",
            "Requirement already satisfied: tzdata>=2022.1 in /usr/local/lib/python3.10/dist-packages (from pandas->nsepython) (2024.1)\n",
            "Requirement already satisfied: numpy>=1.21.0 in /usr/local/lib/python3.10/dist-packages (from pandas->nsepython) (1.25.2)\n",
            "Requirement already satisfied: charset-normalizer<4,>=2 in /usr/local/lib/python3.10/dist-packages (from requests->nsepython) (3.3.2)\n",
            "Requirement already satisfied: idna<4,>=2.5 in /usr/local/lib/python3.10/dist-packages (from requests->nsepython) (3.7)\n",
            "Requirement already satisfied: urllib3<3,>=1.21.1 in /usr/local/lib/python3.10/dist-packages (from requests->nsepython) (2.0.7)\n",
            "Requirement already satisfied: certifi>=2017.4.17 in /usr/local/lib/python3.10/dist-packages (from requests->nsepython) (2024.6.2)\n",
            "Requirement already satisfied: six>=1.5 in /usr/local/lib/python3.10/dist-packages (from python-dateutil>=2.8.2->pandas->nsepython) (1.16.0)\n",
            "Requirement already satisfied: xlsxwriter in /usr/local/lib/python3.10/dist-packages (3.2.0)\n"
          ]
        }
      ]
    },
    {
      "cell_type": "markdown",
      "source": [
        "### Run only once a day"
      ],
      "metadata": {
        "id": "HiwkFTVjvDFV"
      }
    },
    {
      "cell_type": "code",
      "execution_count": null,
      "metadata": {
        "id": "2gdETaK90P0T",
        "colab": {
          "base_uri": "https://localhost:8080/"
        },
        "outputId": "d192071b-d51e-4d9e-b375-7409cfc60a8f"
      },
      "outputs": [
        {
          "output_type": "stream",
          "name": "stdout",
          "text": [
            "Drive already mounted at /content/drive; to attempt to forcibly remount, call drive.mount(\"/content/drive\", force_remount=True).\n"
          ]
        }
      ],
      "source": [
        "import time\n",
        "import datetime\n",
        "import pandas as pd\n",
        "import numpy as np\n",
        "import warnings\n",
        "import xlsxwriter\n",
        "\n",
        "from google.colab import drive\n",
        "drive.mount('/content/drive')\n",
        "v_project_folder = '/content/drive/My Drive/Trading/'\n",
        "\n",
        "# format (2024, 5, 1, 0, 0) -- (YYYY, M, D, 0, 0), yahoo finance use this mentod to filter dates. Testing for montly historical window.\n",
        "period1 = int(time.mktime(datetime.datetime(2024, 6, 6, 0, 0).timetuple()))\n",
        "period2 = int(time.mktime(datetime.datetime(2024, 6, 9, 0, 0).timetuple()))\n",
        "# daily reporting\n",
        "interval = '1d' # 1d, 1m\n",
        "\n",
        "#List of all Nifty 100 shares\n",
        "nifty100=['ABB', 'AMBUJACEM', 'APOLLOHOSP', 'ASIANPAINT', 'DMART', 'AXISBANK', 'BAJAJ-AUTO', 'BAJFINANCE', 'BAJAJFINSV', 'BAJAJHLDNG', 'BANKBARODA', 'BERGEPAINT', 'BEL', 'BPCL', 'BHARTIARTL', 'BOSCHLTD', 'BRITANNIA', 'CANBK', 'CHOLAFIN', 'CIPLA', 'COALINDIA', 'COLPAL', 'DLF', 'DABUR', 'DIVISLAB', 'DRREDDY', 'EICHERMOT', 'GAIL', 'GODREJCP', 'GRASIM', 'HCLTECH', 'HDFCBANK', 'HDFCLIFE', 'HAVELLS', 'HEROMOTOCO', 'HINDALCO', 'HAL', 'HINDUNILVR', 'ICICIBANK', 'ICICIGI', 'ICICIPRULI', 'ITC', 'IOC', 'IRCTC', 'IRFC', 'INDUSINDBK', 'NAUKRI', 'INFY', 'INDIGO', 'JSWSTEEL', 'JINDALSTEL', 'JIOFIN', 'KOTAKBANK', 'LTIM', 'LT', 'LICI', 'M&M', 'MARICO', 'MARUTI', 'NTPC', 'NESTLEIND', 'ONGC', 'PIDILITIND', 'PFC', 'POWERGRID', 'PNB', 'RECLTD', 'RELIANCE', 'SBICARD', 'SBILIFE', 'SRF', 'MOTHERSON', 'SHREECEM', 'SHRIRAMFIN', 'SIEMENS', 'SBIN', 'SUNPHARMA', 'TVSMOTOR', 'TCS', 'TATACONSUM', 'TATAMTRDVR', 'TATAMOTORS', 'TATAPOWER', 'TATASTEEL', 'TECHM', 'TITAN', 'TORNTPHARM', 'TRENT', 'ULTRACEMCO', 'UNIONBANK', 'VBL', 'VEDL', 'WIPRO', 'ZOMATO', 'ZYDUSLIFE' ]\n",
        "\n",
        "# List of all Nifty 50 shares\n",
        "nifty50 = ['APOLLOHOSP', 'ASIANPAINT', 'AXISBANK', 'BAJAJ-AUTO', 'BAJFINANCE', 'BAJAJFINSV', 'BPCL', 'BHARTIARTL', 'BRITANNIA', 'CIPLA', 'COALINDIA', 'DIVISLAB', 'DRREDDY', 'EICHERMOT', 'GRASIM', 'HCLTECH', 'HDFCBANK', 'HDFCLIFE', 'HEROMOTOCO', 'HINDALCO', 'HINDUNILVR', 'ICICIBANK', 'ITC', 'INDUSINDBK', 'INFY', 'JSWSTEEL', 'KOTAKBANK', 'LTIM', 'LT', 'M&M', 'MARUTI', 'NTPC', 'NESTLEIND', 'ONGC', 'POWERGRID', 'RELIANCE', 'SBILIFE', 'SHRIRAMFIN', 'SBIN', 'SUNPHARMA', 'TCS', 'TATACONSUM', 'TATAMOTORS', 'TATASTEEL', 'TECHM', 'TITAN', 'ULTRACEMCO', 'WIPRO']\n",
        "\n",
        "# List of all midcap 100 shares\n",
        "midcap100 = ['PAYTM', 'LTF', 'IDEA', 'BDL', 'PERSISTENT', 'COFORGE', 'SAIL', 'FORTIS', 'LODHA', 'GODREJPROP', 'BALKRISIND', 'APOLLOTYRE', 'BANKINDIA', 'KPITTECH', 'POONAWALLA', 'OFSS', 'APLAPOLLO', 'GMRINFRA', 'TATAELXSI', 'GUJGASLTD', 'LTTS', 'BHEL', 'ASHOKLEY', 'CUMMINSIND', 'DIXON', 'PATANJALI', 'NMDC', 'DALBHARAT', 'IDBI', 'INDUSTOWER', 'BANDHANBNK', 'HDFCAMC', 'TORNTPOWER', 'ALKEM', 'ACC', 'YESBANK', 'BHARATFORG', 'PEL', 'RVNL', 'LAURUSLABS', 'LALPATHLAB', 'KALYANKJIL', 'SYNGENE', 'UNIONBANK', 'SJVN', 'HINDPETRO', 'LICHSGFIN', 'LUPIN', 'M&MFIN', 'AUBANK', 'ABCAPITAL', 'MFSL', 'MAHABANK', 'MPHASIS', 'IGL', 'TATATECH', 'ZEEL', 'TIINDIA', 'AUROPHARMA', 'GLAND', 'TATACOMM', 'DELHIVERY', 'SONACOMS', 'INDIANB', 'MRF', 'OIL', 'IPCALAB', 'SUPREMEIND', 'CGPOWER', 'FACT', 'BIOCON', 'IDFCFIRSTB', 'ABFRL', 'INDHOTEL', 'NHPC', 'DEEPAKNTR', 'UPL', 'ASTRAL', 'JSWINFRA', 'VOLTAS', 'FEDERALBNK', 'NYKAA', 'SUNTV', 'POLICYBZR', 'CONCOR', 'SUZLON', 'PIIND', 'JSWENERGY', 'TATACHEM', 'PETRONET', 'POLYCAB', 'OBEROIRLTY', 'ESCORTS', 'MAZDOCK', 'JUBLFOOD', 'PRESTIGE', 'BSE', 'MAXHEALTH', 'PAGEIND', 'MANKIND']\n",
        "\n",
        "# mylist is used in the model, only one list can be assigned at a time.\n",
        "mylist = nifty100\n",
        "\n"
      ]
    },
    {
      "cell_type": "markdown",
      "source": [
        "### Run for the new report"
      ],
      "metadata": {
        "id": "3Zpjs3lSvGPC"
      }
    },
    {
      "cell_type": "code",
      "source": [
        "from datetime import datetime\n",
        "from pytz import timezone\n",
        "from nsepython import *\n",
        "import pandas as pd\n",
        "import json\n",
        "\n",
        "warnings.filterwarnings('ignore')\n",
        "\n",
        "tz = 'Asia/Kolkata'\n",
        "now = datetime.datetime.now(timezone(tz))\n",
        "dt_string = now.strftime(\"%Y-%m-%d_%H%M\")\n",
        "print(dt_string)\n",
        "\n",
        "df_nifty100 = pd.DataFrame(columns=['Date', 'Name', 'Open', 'LastPrice' , 'High',\t'Low',\t'PreClose'] )\n",
        "\n",
        "for ticker in mylist:\n",
        "  # update the current ticker's data in variable ticker_json\n",
        "  try:\n",
        "    ticker_json = nse_eq(ticker)\n",
        "    index = len(df_nifty100)\n",
        "\n",
        "    row =[dt_string, ticker, ticker_json['priceInfo']['open'], ticker_json['priceInfo']['lastPrice'], ticker_json['priceInfo']['intraDayHighLow']['max'], ticker_json['priceInfo']['intraDayHighLow']['min'], ticker_json['priceInfo']['previousClose'] ]\n",
        "    df_nifty100.loc[len(df_nifty100)+1] = row\n",
        "  except:\n",
        "    print('Error for symbol:',ticker)\n",
        "\n",
        "# Transformation\n",
        "df_nifty100['pct_open'] = (df_nifty100['Open'] - df_nifty100['PreClose'])*100 / df_nifty100['PreClose'] # calulate % open up or down\n",
        "df_nifty100['pct_high'] = (df_nifty100['High'] - df_nifty100['Open'])*100 / df_nifty100['Open'] # calculate % of high after open\n",
        "df_nifty100['pct_low'] = (df_nifty100['Open'] - df_nifty100['Low'])*100 / df_nifty100['Open'] # calculate % of low after open\n",
        "df_nifty100['pct_open_to_lastprice'] = (df_nifty100['LastPrice'] - df_nifty100['Open'])*100 / df_nifty100['Open'] # calculate % of gain in d day profit or loss\n",
        "df_nifty100.sort_values(['pct_open_to_lastprice' , 'pct_open'], inplace = True) # shares order by trading day and & open.\n",
        "\n",
        "df_nifty100['low_to_high'] = (df_nifty100['High'] - df_nifty100['Low'])*100 / df_nifty100['Low'] # claculate % from low to its high on the trading day\n",
        "df_nifty100['open_to_low'] = (df_nifty100['Open'] - df_nifty100['Low'])*100 / df_nifty100['Open'] # claculate % from low to its open on the trading day\n",
        "\n",
        "# Opened between 0.25% and 1.5%, plus did not fall more morethan 0.5% after opening i.e. holding gains\n",
        "df_nifty100 = df_nifty100.loc[((df_nifty100['pct_open'] > 0.25) & (df_nifty100['pct_high'] >= 0.5) & (df_nifty100['Low'] > df_nifty100['PreClose'])) & (df_nifty100['pct_open'] <= 1.5) ]\n",
        "\n",
        "# Rainking on % open postive gainer to lossers, top most gets 1 and loss most gains the lenght values of the mylist\n",
        "df_nifty100['Top Gainer'] = df_nifty100.groupby(['Date'])['pct_open'].rank('dense', ascending=False)\n",
        "\n",
        "# Copy top gainers in mylist to run subsequent executions for limited symbols\n",
        "mylist = df_nifty100[df_nifty100['Top Gainer'] <= 25]['Name']\n",
        "\n",
        "df_nifty100.sort_values(by=['Top Gainer'], ascending=True, inplace = True)\n",
        "df_nifty100_top10 = df_nifty100[0:10]\n",
        "df_nifty100_top10 = df_nifty100_top10.round(2)\n",
        "df_nifty100_top10 = df_nifty100_top10[['Top Gainer', 'Name','LastPrice', 'pct_open_to_lastprice', 'Open' ,'pct_open', 'High', 'pct_high', 'Low','pct_low', 'Date']]\n",
        "df_nifty100_top10.to_excel(v_project_folder+'Live/Live_'+dt_string+'_top10.xlsx', index = False)\n",
        "\n"
      ],
      "metadata": {
        "id": "okbKYPAvHQRw",
        "colab": {
          "base_uri": "https://localhost:8080/"
        },
        "outputId": "49a55c5f-1a85-4f4f-9014-5f221a831c7a"
      },
      "execution_count": null,
      "outputs": [
        {
          "output_type": "stream",
          "name": "stdout",
          "text": [
            "2024-06-11_1050\n",
            "{'info': {'symbol': 'EICHERMOT', 'companyName': 'Eicher Motors Limited', 'industry': 'AUTOMOBILES - 4 WHEELERS', 'activeSeries': ['EQ'], 'debtSeries': [], 'isFNOSec': True, 'isCASec': False, 'isSLBSec': True, 'isDebtSec': False, 'isSuspended': False, 'tempSuspendedSeries': [], 'isETFSec': False, 'isDelisted': False, 'isin': 'INE066A01021', 'isMunicipalBond': False, 'isTop10': False, 'identifier': 'EICHERMOTEQN'}, 'metadata': {'series': 'EQ', 'symbol': 'EICHERMOT', 'isin': 'INE066A01021', 'status': 'Listed', 'listingDate': '07-Sep-2004', 'industry': '2/3 Wheelers', 'lastUpdateTime': '11-Jun-2024 10:50:22', 'pdSectorPe': 36.88, 'pdSymbolPe': 36.88, 'pdSectorInd': 'NIFTY AUTO                                        '}, 'securityInfo': {'boardStatus': 'Main', 'tradingStatus': 'Active', 'tradingSegment': 'Normal Market', 'sessionNo': '-', 'slb': 'Yes', 'classOfShare': 'Equity', 'derivatives': 'Yes', 'surveillance': {'surv': None, 'desc': None}, 'faceValue': 1, 'issuedSize': 274010515}, 'sddDetails': {'SDDAuditor': '-', 'SDDStatus': '-'}, 'priceInfo': {'lastPrice': 4790, 'change': 7.25, 'pChange': 0.15158643040091999, 'previousClose': 4782.75, 'open': 4810, 'close': 0, 'vwap': 4794.45, 'lowerCP': '4304.50', 'upperCP': '5261.00', 'pPriceBand': 'No Band', 'basePrice': 4782.75, 'intraDayHighLow': {'min': 4766.3, 'max': 4811.95, 'value': 4790}, 'weekHighLow': {'min': 3160, 'minDate': '10-Jul-2023', 'max': 4908, 'maxDate': '24-May-2024', 'value': 4790}, 'iNavValue': None, 'checkINAV': False}, 'industryInfo': {'macro': 'Consumer Discretionary', 'sector': 'Automobile and Auto Components', 'industry': 'Automobiles', 'basicIndustry': '2/3 Wheelers'}, 'preOpenMarket': {'preopen': [{'price': 4639.3, 'buyQty': 0, 'sellQty': 2}, {'price': 4687, 'buyQty': 0, 'sellQty': 4}, {'price': 4687.1, 'buyQty': 0, 'sellQty': 49}, {'price': 4770, 'buyQty': 0, 'sellQty': 5}, {'price': 4810, 'buyQty': 0, 'sellQty': 0, 'iep': True}, {'price': 4878.45, 'buyQty': 100, 'sellQty': 0}, {'price': 4944, 'buyQty': 103, 'sellQty': 0}, {'price': 4998, 'buyQty': 6, 'sellQty': 0}, {'price': 5021.85, 'buyQty': 26, 'sellQty': 0}], 'ato': {'buy': 97, 'sell': 78}, 'IEP': 4810, 'totalTradedVolume': 418, 'finalPrice': 4810, 'finalQuantity': 418, 'lastUpdateTime': '11-Jun-2024 09:07:18', 'totalBuyQuantity': 1343, 'totalSellQuantity': 4960, 'atoBuyQty': 97, 'atoSellQty': 78, 'Change': 27.25, 'perChange': 0.5697558935758716, 'prevClose': 4782.75}}\n",
            "{'info': {'symbol': 'SBIN', 'companyName': 'State Bank of India', 'industry': 'BANKS', 'activeSeries': ['EQ', 'T0'], 'debtSeries': [], 'isFNOSec': True, 'isCASec': False, 'isSLBSec': True, 'isDebtSec': False, 'isSuspended': False, 'tempSuspendedSeries': ['IL', 'N1', 'N2', 'N3', 'N4', 'N5', 'N6'], 'isETFSec': False, 'isDelisted': False, 'isin': 'INE062A01020', 'isMunicipalBond': False, 'isTop10': False, 'identifier': 'SBINEQN'}, 'metadata': {'series': 'EQ', 'symbol': 'SBIN', 'isin': 'INE062A01020', 'status': 'Listed', 'listingDate': '01-Mar-1995', 'industry': 'Public Sector Bank', 'lastUpdateTime': '11-Jun-2024 10:52:52', 'pdSectorPe': 10.11, 'pdSymbolPe': 10.89, 'pdSectorInd': 'NIFTY BANK                                        '}, 'securityInfo': {'boardStatus': 'Main', 'tradingStatus': 'Active', 'tradingSegment': 'Normal Market', 'sessionNo': '-', 'slb': 'Yes', 'classOfShare': 'Equity', 'derivatives': 'Yes', 'surveillance': {'surv': None, 'desc': None}, 'faceValue': 1, 'issuedSize': 8924611934}, 'sddDetails': {'SDDAuditor': '-', 'SDDStatus': '-'}, 'priceInfo': {'lastPrice': 836.3, 'change': 4.5, 'pChange': 0.5409954315941332, 'previousClose': 831.8, 'open': 836, 'close': 0, 'vwap': 833.66, 'lowerCP': '748.65', 'upperCP': '914.95', 'pPriceBand': 'No Band', 'basePrice': 831.8, 'intraDayHighLow': {'min': 829.05, 'max': 837.55, 'value': 836.3}, 'weekHighLow': {'min': 543.2, 'minDate': '26-Oct-2023', 'max': 912, 'maxDate': '03-Jun-2024', 'value': 836.3}, 'iNavValue': None, 'checkINAV': False}, 'industryInfo': {'macro': 'Financial Services', 'sector': 'Financial Services', 'industry': 'Banks', 'basicIndustry': 'Public Sector Bank'}, 'preOpenMarket': {'preopen': [{'price': 748.65, 'buyQty': 0, 'sellQty': 5000}, {'price': 750, 'buyQty': 0, 'sellQty': 500}, {'price': 760, 'buyQty': 0, 'sellQty': 225}, {'price': 794.35, 'buyQty': 0, 'sellQty': 116}, {'price': 836, 'buyQty': 0, 'sellQty': 0, 'iep': True}, {'price': 875, 'buyQty': 150, 'sellQty': 0}, {'price': 876, 'buyQty': 3000, 'sellQty': 0}, {'price': 890, 'buyQty': 5, 'sellQty': 0}, {'price': 914.95, 'buyQty': 18, 'sellQty': 0}], 'ato': {'buy': 9290, 'sell': 2777}, 'IEP': 836, 'totalTradedVolume': 41948, 'finalPrice': 836, 'finalQuantity': 41948, 'lastUpdateTime': '11-Jun-2024 09:07:16', 'totalBuyQuantity': 145399, 'totalSellQuantity': 425528, 'atoBuyQty': 9290, 'atoSellQty': 2777, 'Change': 4.2000000000000455, 'perChange': 0.5049290694878632, 'prevClose': 831.8}}\n"
          ]
        }
      ]
    }
  ]
}